{
 "cells": [
  {
   "cell_type": "markdown",
   "metadata": {},
   "source": [
    "## Exploring HDF5 data file from GEDI Ecosystem Lidar\n",
    "https://gedi.umd.edu/data/download/\n",
    "\n",
    "We open the file using `h5py.File` in read mode, and store it in variable `hfd`"
   ]
  },
  {
   "cell_type": "code",
   "execution_count": 2,
   "metadata": {},
   "outputs": [],
   "source": [
    "import h5py\n",
    "import pandas as pd\n",
    "import numpy as np\n",
    "import matplotlib as plt\n",
    "from jupyterthemes import jtplot\n",
    "\n",
    "jtplot.style()\n",
    "\n",
    "filename = 'GEDI01_B_2019108002011_O01959_T03909_02_003_01.h5'\n",
    "hdf = h5py.File(filename, 'r')"
   ]
  },
  {
   "cell_type": "markdown",
   "metadata": {},
   "source": [
    "A for loop is useful to see what is contained in hdf. Using `hdf.get`, we can access one of the groups contained in the file and store it in a variable, and check its contents again with a for loop. \n",
    "\n",
    "We can store each group in `hdf` in their respective variable to later on get their contents using functions. "
   ]
  },
  {
   "cell_type": "code",
   "execution_count": 25,
   "metadata": {},
   "outputs": [],
   "source": [
    "group1 = hdf.get('BEAM0000')\n",
    "# have a quick look at the keys inside the group\n",
    "# for key in group1:\n",
    "#     print(key)"
   ]
  },
  {
   "cell_type": "code",
   "execution_count": 4,
   "metadata": {},
   "outputs": [
    {
     "name": "stdout",
     "output_type": "stream",
     "text": [
      "Items in BEAM0000 [('all_samples_sum', <HDF5 dataset \"all_samples_sum\": shape (249810,), type \"<u4\">), ('ancillary', <HDF5 group \"/BEAM0000/ancillary\" (3 members)>), ('beam', <HDF5 dataset \"beam\": shape (249810,), type \"<u2\">), ('channel', <HDF5 dataset \"channel\": shape (249810,), type \"|u1\">), ('delta_time', <HDF5 dataset \"delta_time\": shape (249810,), type \"<f8\">), ('geolocation', <HDF5 group \"/BEAM0000/geolocation\" (39 members)>), ('geophys_corr', <HDF5 group \"/BEAM0000/geophys_corr\" (8 members)>), ('master_frac', <HDF5 dataset \"master_frac\": shape (249810,), type \"<f8\">), ('master_int', <HDF5 dataset \"master_int\": shape (249810,), type \"<u4\">), ('noise_mean_corrected', <HDF5 dataset \"noise_mean_corrected\": shape (249810,), type \"<f8\">), ('noise_stddev_corrected', <HDF5 dataset \"noise_stddev_corrected\": shape (249810,), type \"<f8\">), ('nsemean_even', <HDF5 dataset \"nsemean_even\": shape (249810,), type \"<f4\">), ('nsemean_odd', <HDF5 dataset \"nsemean_odd\": shape (249810,), type \"<f4\">), ('rx_energy', <HDF5 dataset \"rx_energy\": shape (249810,), type \"<f8\">), ('rx_offset', <HDF5 dataset \"rx_offset\": shape (249810,), type \"<u2\">), ('rx_open', <HDF5 dataset \"rx_open\": shape (249810,), type \"<u4\">), ('rx_sample_count', <HDF5 dataset \"rx_sample_count\": shape (249810,), type \"<u2\">), ('rx_sample_start_index', <HDF5 dataset \"rx_sample_start_index\": shape (249810,), type \"<u8\">), ('rxwaveform', <HDF5 dataset \"rxwaveform\": shape (354730200,), type \"<f4\">), ('selection_stretchers_x', <HDF5 dataset \"selection_stretchers_x\": shape (249810,), type \"<u2\">), ('selection_stretchers_y', <HDF5 dataset \"selection_stretchers_y\": shape (249810,), type \"<u2\">), ('shot_number', <HDF5 dataset \"shot_number\": shape (249810,), type \"<u8\">), ('stale_return_flag', <HDF5 dataset \"stale_return_flag\": shape (249810,), type \"|u1\">), ('th_left_used', <HDF5 dataset \"th_left_used\": shape (249810,), type \"<u2\">), ('tx_egamplitude', <HDF5 dataset \"tx_egamplitude\": shape (249810,), type \"<f4\">), ('tx_egamplitude_error', <HDF5 dataset \"tx_egamplitude_error\": shape (249810,), type \"<f4\">), ('tx_egbias', <HDF5 dataset \"tx_egbias\": shape (249810,), type \"<f4\">), ('tx_egbias_error', <HDF5 dataset \"tx_egbias_error\": shape (249810,), type \"<f4\">), ('tx_egflag', <HDF5 dataset \"tx_egflag\": shape (249810,), type \"|u1\">), ('tx_eggamma', <HDF5 dataset \"tx_eggamma\": shape (249810,), type \"<f4\">), ('tx_eggamma_error', <HDF5 dataset \"tx_eggamma_error\": shape (249810,), type \"<f4\">), ('tx_egsigma', <HDF5 dataset \"tx_egsigma\": shape (249810,), type \"<f4\">), ('tx_egsigma_error', <HDF5 dataset \"tx_egsigma_error\": shape (249810,), type \"<f4\">), ('tx_gloc', <HDF5 dataset \"tx_gloc\": shape (249810,), type \"<f4\">), ('tx_gloc_error', <HDF5 dataset \"tx_gloc_error\": shape (249810,), type \"<f4\">), ('tx_pulseflag', <HDF5 dataset \"tx_pulseflag\": shape (249810,), type \"|u1\">), ('tx_sample_count', <HDF5 dataset \"tx_sample_count\": shape (249810,), type \"<u2\">), ('tx_sample_start_index', <HDF5 dataset \"tx_sample_start_index\": shape (249810,), type \"<u8\">), ('txwaveform', <HDF5 dataset \"txwaveform\": shape (31975680,), type \"<f4\">)]\n"
     ]
    }
   ],
   "source": [
    "# exlore items in a group to see the different types etc. \n",
    "group1_items = list(group1.items())\n",
    "print('Items in BEAM0000', group1_items)"
   ]
  },
  {
   "cell_type": "code",
   "execution_count": 5,
   "metadata": {},
   "outputs": [],
   "source": [
    "# for key in group1.keys():\n",
    "#     print(type(group1.get(key)))"
   ]
  },
  {
   "cell_type": "markdown",
   "metadata": {},
   "source": [
    "We can get a list of the datasets in a group and exclude some of the items in the group with the following function. We may want to leave out subrgoups or other datasets and we add them manually to the function:"
   ]
  },
  {
   "cell_type": "code",
   "execution_count": 6,
   "metadata": {},
   "outputs": [],
   "source": [
    "def get_list(group): \n",
    "    result = []\n",
    "    for key in group.keys():\n",
    "        if key != 'ancillary':\n",
    "            if key != 'geolocation':\n",
    "                if key != 'geophys_corr':\n",
    "                    result.append(key)\n",
    "    return result"
   ]
  },
  {
   "cell_type": "markdown",
   "metadata": {},
   "source": [
    "For a more concise result, we may want only a list of the items that are h5py datasets (excluding subgroups), for which we use the following function for a given group: "
   ]
  },
  {
   "cell_type": "code",
   "execution_count": 30,
   "metadata": {},
   "outputs": [],
   "source": [
    "def get_dataset_list(group):\n",
    "    just_datasets = []\n",
    "    for key in group.keys():\n",
    "        if type(group.get(key)) == h5py._hl.dataset.Dataset:\n",
    "            just_datasets.append(key)\n",
    "    return just_datasets"
   ]
  },
  {
   "cell_type": "markdown",
   "metadata": {},
   "source": [
    "One issue of the previus `get_dataset_list()` is that it will return all datasets and some of them when turned into an array have different lengths. For that we may want to only keep a list with datasets of equal length to make it easier to create a pandas DataFrame from a dictionary later. "
   ]
  },
  {
   "cell_type": "code",
   "execution_count": 32,
   "metadata": {},
   "outputs": [],
   "source": [
    "def get_dataset_list_len(group):\n",
    "    pass"
   ]
  },
  {
   "cell_type": "code",
   "execution_count": 8,
   "metadata": {},
   "outputs": [],
   "source": [
    "# get_datasets(group1)\n",
    "# get_list(group1)"
   ]
  },
  {
   "cell_type": "markdown",
   "metadata": {},
   "source": [
    "Using the result of the previous function that only gives us h5py datasets (of same lenght or not), we can get a list of those datasets, where each one is a NumPy array:"
   ]
  },
  {
   "cell_type": "code",
   "execution_count": 27,
   "metadata": {},
   "outputs": [],
   "source": [
    "def get_array(group):\n",
    "    all_data = []\n",
    "    for key in group:\n",
    "        for k in get_dataset_list(group):\n",
    "            if key == k:\n",
    "                all_data.append(np.array(group.get(key)))\n",
    "    return all_data"
   ]
  },
  {
   "cell_type": "markdown",
   "metadata": {},
   "source": [
    "As we mentioned earlier, not all dataset arrays have the same length, so we may want to get only the ones that have equal length. By checking the items in `group1`, we know most of them are of len = 249810, so that makes for a good collection. Let's get a list of arrays of that specific length, with the following function:"
   ]
  },
  {
   "cell_type": "code",
   "execution_count": 28,
   "metadata": {},
   "outputs": [],
   "source": [
    "def get_array_len(group):\n",
    "    all_data = []\n",
    "    equal_len_arrays = []\n",
    "    for key in group:\n",
    "        for k in get_datasets(group):\n",
    "            if key == k:\n",
    "                all_data.append(np.array(group.get(key)))\n",
    "    \n",
    "    for array in all_data:\n",
    "        if len(array) == 249810:\n",
    "            equal_len_arrays.append(array)\n",
    "    return equal_len_arrays"
   ]
  },
  {
   "cell_type": "code",
   "execution_count": 29,
   "metadata": {},
   "outputs": [],
   "source": [
    "# get_array_len(group1)"
   ]
  },
  {
   "cell_type": "markdown",
   "metadata": {},
   "source": [
    "We can now create a dictionary and store it in a variable, using our functions `get_datasets()` and `get_array_len()`"
   ]
  },
  {
   "cell_type": "code",
   "execution_count": 13,
   "metadata": {
    "scrolled": true
   },
   "outputs": [],
   "source": [
    "# create a dictionary containing each dataset as an array\n",
    "data = dict(zip(get_datasets(group1), get_array(group1))) # fix for arrays of same length"
   ]
  },
  {
   "cell_type": "code",
   "execution_count": 15,
   "metadata": {},
   "outputs": [],
   "source": [
    "# pd.DataFrame.from_dict(data)\n",
    "# pd.DataFrame(dict([(k,pd.Series(v)) for k,v in data.items()]))\n"
   ]
  },
  {
   "cell_type": "markdown",
   "metadata": {},
   "source": [
    "### Getting separate arrays and creating dataframes\n",
    "We can get an array for each dataset contained in a group if we need to get them independently. We can then create a Pandas DataFrame for it, or for multiple arrays to be able to plot things or doing other analyses. "
   ]
  },
  {
   "cell_type": "code",
   "execution_count": 33,
   "metadata": {},
   "outputs": [
    {
     "name": "stdout",
     "output_type": "stream",
     "text": [
      "249810\n"
     ]
    }
   ],
   "source": [
    "# get single array of a dataset contained in the group\n",
    "all_samples_sum = np.array(group1.get('all_samples_sum'))\n",
    "delta_time = np.array(group1.get('delta_time'))\n",
    "\n",
    "print(len(delta_time))"
   ]
  },
  {
   "cell_type": "code",
   "execution_count": 221,
   "metadata": {},
   "outputs": [
    {
     "data": {
      "text/plain": [
       "<matplotlib.axes._subplots.AxesSubplot at 0x11f66bfd0>"
      ]
     },
     "execution_count": 221,
     "metadata": {},
     "output_type": "execute_result"
    },
    {
     "data": {
      "image/png": "[encoded data removed]",
      "text/plain": [
       "<Figure size 432x288 with 1 Axes>"
      ]
     },
     "metadata": {
      "needs_background": "dark"
     },
     "output_type": "display_data"
    }
   ],
   "source": [
    "# make pandas dataframe from an array\n",
    "df2 = pd.DataFrame(all_samples_sum)\n",
    "df2.columns = ['All Samples Sum']\n",
    "# print(df)\n",
    "df2.iloc[1:100].plot() # plotting subset of df\n"
   ]
  },
  {
   "cell_type": "code",
   "execution_count": 81,
   "metadata": {},
   "outputs": [
    {
     "data": {
      "text/html": [
       "<div>\n",
       "<style scoped>\n",
       "    .dataframe tbody tr th:only-of-type {\n",
       "        vertical-align: middle;\n",
       "    }\n",
       "\n",
       "    .dataframe tbody tr th {\n",
       "        vertical-align: top;\n",
       "    }\n",
       "\n",
       "    .dataframe thead th {\n",
       "        text-align: right;\n",
       "    }\n",
       "</style>\n",
       "<table border=\"1\" class=\"dataframe\">\n",
       "  <thead>\n",
       "    <tr style=\"text-align: right;\">\n",
       "      <th></th>\n",
       "      <th>all_samples_sum</th>\n",
       "      <th>delta_time</th>\n",
       "    </tr>\n",
       "  </thead>\n",
       "  <tbody>\n",
       "    <tr>\n",
       "      <th>0</th>\n",
       "      <td>16167838.0</td>\n",
       "      <td>4.078333e+07</td>\n",
       "    </tr>\n",
       "    <tr>\n",
       "      <th>1</th>\n",
       "      <td>16165121.0</td>\n",
       "      <td>4.078333e+07</td>\n",
       "    </tr>\n",
       "    <tr>\n",
       "      <th>2</th>\n",
       "      <td>16180451.0</td>\n",
       "      <td>4.078333e+07</td>\n",
       "    </tr>\n",
       "    <tr>\n",
       "      <th>3</th>\n",
       "      <td>16181775.0</td>\n",
       "      <td>4.078333e+07</td>\n",
       "    </tr>\n",
       "    <tr>\n",
       "      <th>4</th>\n",
       "      <td>16159591.0</td>\n",
       "      <td>4.078333e+07</td>\n",
       "    </tr>\n",
       "    <tr>\n",
       "      <th>...</th>\n",
       "      <td>...</td>\n",
       "      <td>...</td>\n",
       "    </tr>\n",
       "    <tr>\n",
       "      <th>249805</th>\n",
       "      <td>16113674.0</td>\n",
       "      <td>4.078712e+07</td>\n",
       "    </tr>\n",
       "    <tr>\n",
       "      <th>249806</th>\n",
       "      <td>16111128.0</td>\n",
       "      <td>4.078712e+07</td>\n",
       "    </tr>\n",
       "    <tr>\n",
       "      <th>249807</th>\n",
       "      <td>16134410.0</td>\n",
       "      <td>4.078712e+07</td>\n",
       "    </tr>\n",
       "    <tr>\n",
       "      <th>249808</th>\n",
       "      <td>16103852.0</td>\n",
       "      <td>4.078712e+07</td>\n",
       "    </tr>\n",
       "    <tr>\n",
       "      <th>249809</th>\n",
       "      <td>16123677.0</td>\n",
       "      <td>4.078712e+07</td>\n",
       "    </tr>\n",
       "  </tbody>\n",
       "</table>\n",
       "<p>249810 rows × 2 columns</p>\n",
       "</div>"
      ],
      "text/plain": [
       "        all_samples_sum    delta_time\n",
       "0            16167838.0  4.078333e+07\n",
       "1            16165121.0  4.078333e+07\n",
       "2            16180451.0  4.078333e+07\n",
       "3            16181775.0  4.078333e+07\n",
       "4            16159591.0  4.078333e+07\n",
       "...                 ...           ...\n",
       "249805       16113674.0  4.078712e+07\n",
       "249806       16111128.0  4.078712e+07\n",
       "249807       16134410.0  4.078712e+07\n",
       "249808       16103852.0  4.078712e+07\n",
       "249809       16123677.0  4.078712e+07\n",
       "\n",
       "[249810 rows x 2 columns]"
      ]
     },
     "execution_count": 81,
     "metadata": {},
     "output_type": "execute_result"
    }
   ],
   "source": [
    "# combine two (or more) datasets into one dataframe\n",
    "df_from_arr = pd.DataFrame(data=[all_samples_sum, delta_time])\n",
    "df3 = df_from_arr.T\n",
    "df3.columns = ['all_samples_sum', 'delta_time']\n",
    "df3"
   ]
  },
  {
   "cell_type": "code",
   "execution_count": null,
   "metadata": {},
   "outputs": [],
   "source": []
  }
 ],
 "metadata": {
  "kernelspec": {
   "display_name": "Python 3",
   "language": "python",
   "name": "python3"
  },
  "language_info": {
   "codemirror_mode": {
    "name": "ipython",
    "version": 3
   },
   "file_extension": ".py",
   "mimetype": "text/x-python",
   "name": "python",
   "nbconvert_exporter": "python",
   "pygments_lexer": "ipython3",
   "version": "3.7.5"
  }
 },
 "nbformat": 4,
 "nbformat_minor": 2
}
